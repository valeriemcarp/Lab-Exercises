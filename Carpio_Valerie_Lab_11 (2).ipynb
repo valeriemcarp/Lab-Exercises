{
 "cells": [
  {
   "cell_type": "code",
   "execution_count": 4,
   "id": "bad9e1ea",
   "metadata": {},
   "outputs": [],
   "source": [
    "import random # this imports the random module that generates random values\n",
    "from tkinter import * # this imports tkinter to make the GUI\n",
    "import requests # imports requests to allow me to send HTTP requests\n",
    "\n",
    "url = \"https://the-trivia-api.com/api/questions?categories=film_and_tv&limit=10&region=US&difficulty=easy\" # this sets the link as the url\n",
    "get_request = requests.get(url).json() # this sends a get request to the API\n",
    "root = Tk() # this creates the window for the tkinter GUI\n",
    "root.title(\"Trivia\") # this says the title of the window is 'Trivia'\n",
    "root.geometry(\"1000x800\") # this sets the window's dimensions to 1000x800\n",
    "\n",
    "canvas = Canvas(root, width=800, height=250, bg=\"khaki1\") # this creates a canvas to show the question and answer options \n",
    "canvas.place(relx=.5, rely=.5,anchor= CENTER) # this centers the canvas\n",
    "\n",
    "game_display = canvas.create_text(200, 75, text=\"\", fill=\"black\", font=('Helvetica 15 bold')) # this creates a text object on the canvas\n",
    "feedback = Label(root, text=\"\", pady=10, font=(\"arial\", 15, \"bold\")) # this creates a label for showing feedback\n",
    "user_answer = StringVar() # this makes a string variable to store the user's answer\n",
    "user_answer.set(\"\") # this sets the value of the user's answer to an empty string\n",
    "score = 0 # this sets the initial score to 0\n",
    "num_questions = 0 # this sets the initial number of questions asked to 0\n",
    "\n",
    "def generate_qlist(json): # this defines a function to create a list of questions from the API\n",
    "    question_list = []\n",
    "    for i in json:\n",
    "        i = i[\"question\"]\n",
    "        question_list.append(i)\n",
    "    return question_list\n",
    "\n",
    "def gen_question(list_): # this defines a function to create a random question from the list of questions\n",
    "    choice = random.choice(list_)\n",
    "    return choice\n",
    "\n",
    "def generate_answers(json, question): # this defines a function that creates a list of options for the question \n",
    "    option_list = []\n",
    "    for i in get_request:\n",
    "        if i[\"question\"] == question:\n",
    "            cor = i[\"correctAnswer\"]\n",
    "            option_list.append(cor)\n",
    "            for incor in i[\"incorrectAnswers\"]:\n",
    "                option_list.append(incor)\n",
    "    random.shuffle(option_list) # this shuffles the answer options to randomize their order\n",
    "    return option_list\n",
    "\n",
    "def ask_question(question, answers): #this defines a function that shows the current question on the canvas\n",
    "    canvas.itemconfig(game_display, text=question, width=300)\n",
    "\n",
    "def update_score(is_correct): # this defines a function that changes the user's score if their answer was right\n",
    "    global score\n",
    "    if is_correct:\n",
    "        score += 10 #this add 10 points to the score"
   ]
  }
 ],
 "metadata": {
  "kernelspec": {
   "display_name": "Python 3 (ipykernel)",
   "language": "python",
   "name": "python3"
  },
  "language_info": {
   "codemirror_mode": {
    "name": "ipython",
    "version": 3
   },
   "file_extension": ".py",
   "mimetype": "text/x-python",
   "name": "python",
   "nbconvert_exporter": "python",
   "pygments_lexer": "ipython3",
   "version": "3.9.13"
  }
 },
 "nbformat": 4,
 "nbformat_minor": 5
}
