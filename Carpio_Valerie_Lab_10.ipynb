{
 "cells": [
  {
   "cell_type": "code",
   "execution_count": 1,
   "id": "2ea6f0fe",
   "metadata": {},
   "outputs": [],
   "source": [
    "import requests\n",
    "from tkinter import *"
   ]
  },
  {
   "cell_type": "code",
   "execution_count": null,
   "id": "4cc2ce3b",
   "metadata": {},
   "outputs": [],
   "source": [
    "#Question 1"
   ]
  },
  {
   "cell_type": "code",
   "execution_count": 2,
   "id": "3feacb1a",
   "metadata": {},
   "outputs": [],
   "source": [
    "def getQuotes():\n",
    "    text_box.delete(0.0, END)\n",
    "    url = requests.get(\"https://api.quotable.io/authors?sortBy=name&order=asc\")\n",
    "    data = r.json()\n",
    "    names = data[\"name\"] \n",
    "    text_box.insert(END, quote)"
   ]
  },
  {
   "cell_type": "code",
   "execution_count": 3,
   "id": "e7ef0329",
   "metadata": {},
   "outputs": [
    {
     "ename": "NameError",
     "evalue": "name 'name' is not defined",
     "output_type": "error",
     "traceback": [
      "\u001b[1;31m---------------------------------------------------------------------------\u001b[0m",
      "\u001b[1;31mNameError\u001b[0m                                 Traceback (most recent call last)",
      "\u001b[1;32m~\\AppData\\Local\\Temp\\ipykernel_5140\\3686297260.py\u001b[0m in \u001b[0;36m<module>\u001b[1;34m\u001b[0m\n\u001b[0;32m      3\u001b[0m \u001b[0mroot\u001b[0m\u001b[1;33m.\u001b[0m\u001b[0mtitle\u001b[0m\u001b[1;33m(\u001b[0m\u001b[1;34m\"People & Their Quotes\"\u001b[0m\u001b[1;33m)\u001b[0m\u001b[1;33m\u001b[0m\u001b[1;33m\u001b[0m\u001b[0m\n\u001b[0;32m      4\u001b[0m \u001b[1;33m\u001b[0m\u001b[0m\n\u001b[1;32m----> 5\u001b[1;33m \u001b[0mitems\u001b[0m \u001b[1;33m=\u001b[0m \u001b[1;33m[\u001b[0m\u001b[0mname\u001b[0m\u001b[1;33m]\u001b[0m\u001b[1;33m\u001b[0m\u001b[1;33m\u001b[0m\u001b[0m\n\u001b[0m\u001b[0;32m      6\u001b[0m \u001b[1;33m\u001b[0m\u001b[0m\n\u001b[0;32m      7\u001b[0m \u001b[1;32mdef\u001b[0m \u001b[0mchosen\u001b[0m\u001b[1;33m(\u001b[0m\u001b[1;33m)\u001b[0m\u001b[1;33m:\u001b[0m\u001b[1;33m\u001b[0m\u001b[1;33m\u001b[0m\u001b[0m\n",
      "\u001b[1;31mNameError\u001b[0m: name 'name' is not defined"
     ]
    }
   ],
   "source": [
    "root = Tk()\n",
    "root.geometry(\"300x300\")\n",
    "root.title(\"People & Their Quotes\")\n",
    "\n",
    "items = [names]\n",
    "\n",
    "def chosen():\n",
    "    person = value.get()\n",
    "    result_label = Label(root,text=f\"You've picked {person}\")\n",
    "    result_label.pack()\n",
    "    \n",
    "value = StringVar()\n",
    "value.set(\"Pick a person\")\n",
    "\n",
    "dropdown = OptionMenu(root, value, *items)\n",
    "choose = Button(root, text = \"Click One\", command=chosen)\n",
    "\n",
    "dropdown.pack()\n",
    "choose.pack()\n",
    "\n",
    "root.mainloop()"
   ]
  },
  {
   "cell_type": "code",
   "execution_count": null,
   "id": "c5ae3c0b",
   "metadata": {},
   "outputs": [],
   "source": [
    "#Question 2"
   ]
  },
  {
   "cell_type": "code",
   "execution_count": null,
   "id": "28ec19fe",
   "metadata": {},
   "outputs": [],
   "source": [
    "def getWeather():\n",
    "    url = \"https://api.weather.gov/\"\n",
    "    weather = requests.get(url).json()\n",
    "    \n",
    "    forecast = id[\"detailed-forecast-body\"]"
   ]
  }
 ],
 "metadata": {
  "kernelspec": {
   "display_name": "Python 3 (ipykernel)",
   "language": "python",
   "name": "python3"
  },
  "language_info": {
   "codemirror_mode": {
    "name": "ipython",
    "version": 3
   },
   "file_extension": ".py",
   "mimetype": "text/x-python",
   "name": "python",
   "nbconvert_exporter": "python",
   "pygments_lexer": "ipython3",
   "version": "3.9.13"
  }
 },
 "nbformat": 4,
 "nbformat_minor": 5
}
